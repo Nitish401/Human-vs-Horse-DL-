{
  "nbformat": 4,
  "nbformat_minor": 0,
  "metadata": {
    "colab": {
      "provenance": []
    },
    "kernelspec": {
      "name": "python3",
      "display_name": "Python 3"
    },
    "language_info": {
      "name": "python"
    }
  },
  "cells": [
    {
      "cell_type": "markdown",
      "source": [
        "IMPORTING LIBRARIES"
      ],
      "metadata": {
        "id": "c2QrWRdtKXAG"
      }
    },
    {
      "cell_type": "code",
      "execution_count": null,
      "metadata": {
        "id": "qe-b3gNYHU-4"
      },
      "outputs": [],
      "source": [
        "import tensorflow as tf\n",
        "import numpy as np\n",
        "import pandas as pd\n",
        "from tensorflow.keras.layers import Dense,Layer,Flatten,Input,Conv2D,MaxPooling2D,BatchNormalization,ReLU\n",
        "from tensorflow.keras.losses import binary_crossentropy \n",
        "from tensorflow.keras.models import Sequential\n",
        "import keras\n",
        "import matplotlib.pyplot as plt"
      ]
    },
    {
      "cell_type": "markdown",
      "source": [
        "MOUNTING THE DRIVE TO IMPORT THE DATA "
      ],
      "metadata": {
        "id": "7sV79E_qKpWl"
      }
    },
    {
      "cell_type": "code",
      "source": [
        "from google.colab import drive\n",
        "drive.mount ('/content/drive')"
      ],
      "metadata": {
        "colab": {
          "base_uri": "https://localhost:8080/"
        },
        "id": "9qV4FAoUHa7c",
        "outputId": "0c5b495e-9e5e-4a9e-d537-7d8f414d51c4"
      },
      "execution_count": null,
      "outputs": [
        {
          "output_type": "stream",
          "name": "stdout",
          "text": [
            "Drive already mounted at /content/drive; to attempt to forcibly remount, call drive.mount(\"/content/drive\", force_remount=True).\n"
          ]
        }
      ]
    },
    {
      "cell_type": "markdown",
      "source": [
        "MAKING MODEL FOR PREDICATION "
      ],
      "metadata": {
        "id": "h_zCVpSdMLym"
      }
    },
    {
      "cell_type": "code",
      "source": [
        "model=Sequential([\n",
        "\n",
        "tf.keras.layers.Conv2D(16,(3,3),activation='relu',input_shape=(300,300,3)),\n",
        "tf.keras.layers.MaxPooling2D(2,2),\n",
        "\n",
        "tf.keras.layers.Conv2D(32,(3,3),activation='relu',input_shape=(300,300,3)),\n",
        "tf.keras.layers.MaxPooling2D(2,2),\n",
        "\n",
        "tf.keras.layers.Conv2D(64,(3,3),activation='relu',input_shape=(300,300,3)),\n",
        "tf.keras.layers.MaxPooling2D(2,2),\n",
        "\n",
        "tf.keras.layers.Conv2D(64,(3,3),activation='relu',input_shape=(300,300,3)),\n",
        "tf.keras.layers.MaxPooling2D(2,2),\n",
        "\n",
        "tf.keras.layers.Conv2D(64,(3,3),activation='relu',input_shape=(300,300,3)),\n",
        "tf.keras.layers.MaxPooling2D(2,2),\n",
        "\n",
        "tf.keras.layers.Flatten(),\n",
        "\n",
        "tf.keras.layers.Dense(152,activation='relu'),\n",
        "\n",
        "tf.keras.layers.Dense(1,activation='sigmoid')\n",
        "])"
      ],
      "metadata": {
        "id": "svU2JSJbHf-7"
      },
      "execution_count": null,
      "outputs": []
    },
    {
      "cell_type": "markdown",
      "source": [
        "MODEL's SUMMARY"
      ],
      "metadata": {
        "id": "fhIjlT82MZhV"
      }
    },
    {
      "cell_type": "code",
      "source": [
        "model.summary()"
      ],
      "metadata": {
        "colab": {
          "base_uri": "https://localhost:8080/"
        },
        "id": "4ad6dAL4Hosr",
        "outputId": "b85fe2e8-9dba-4e0a-c39c-0249a9224e45"
      },
      "execution_count": null,
      "outputs": [
        {
          "output_type": "stream",
          "name": "stdout",
          "text": [
            "Model: \"sequential_3\"\n",
            "_________________________________________________________________\n",
            " Layer (type)                Output Shape              Param #   \n",
            "=================================================================\n",
            " conv2d_15 (Conv2D)          (None, 298, 298, 16)      448       \n",
            "                                                                 \n",
            " max_pooling2d_15 (MaxPoolin  (None, 149, 149, 16)     0         \n",
            " g2D)                                                            \n",
            "                                                                 \n",
            " conv2d_16 (Conv2D)          (None, 147, 147, 32)      4640      \n",
            "                                                                 \n",
            " max_pooling2d_16 (MaxPoolin  (None, 73, 73, 32)       0         \n",
            " g2D)                                                            \n",
            "                                                                 \n",
            " conv2d_17 (Conv2D)          (None, 71, 71, 64)        18496     \n",
            "                                                                 \n",
            " max_pooling2d_17 (MaxPoolin  (None, 35, 35, 64)       0         \n",
            " g2D)                                                            \n",
            "                                                                 \n",
            " conv2d_18 (Conv2D)          (None, 33, 33, 64)        36928     \n",
            "                                                                 \n",
            " max_pooling2d_18 (MaxPoolin  (None, 16, 16, 64)       0         \n",
            " g2D)                                                            \n",
            "                                                                 \n",
            " conv2d_19 (Conv2D)          (None, 14, 14, 64)        36928     \n",
            "                                                                 \n",
            " max_pooling2d_19 (MaxPoolin  (None, 7, 7, 64)         0         \n",
            " g2D)                                                            \n",
            "                                                                 \n",
            " flatten_3 (Flatten)         (None, 3136)              0         \n",
            "                                                                 \n",
            " dense_6 (Dense)             (None, 152)               476824    \n",
            "                                                                 \n",
            " dense_7 (Dense)             (None, 1)                 153       \n",
            "                                                                 \n",
            "=================================================================\n",
            "Total params: 574,417\n",
            "Trainable params: 574,417\n",
            "Non-trainable params: 0\n",
            "_________________________________________________________________\n"
          ]
        }
      ]
    },
    {
      "cell_type": "markdown",
      "source": [
        "COMPILING THE MODEL"
      ],
      "metadata": {
        "id": "imemG8xNMfqN"
      }
    },
    {
      "cell_type": "code",
      "source": [
        "model.compile(optimizer='adam',loss='binary_crossentropy',metrics=['accuracy'])"
      ],
      "metadata": {
        "id": "cBG7klKSHvhS"
      },
      "execution_count": null,
      "outputs": []
    },
    {
      "cell_type": "markdown",
      "source": [
        "RESIZING THE IMAGE "
      ],
      "metadata": {
        "id": "_xADn39YMipk"
      }
    },
    {
      "cell_type": "code",
      "source": [
        "from tensorflow.keras.preprocessing.image import ImageDataGenerator\n",
        "train_data_gen = ImageDataGenerator( rescale=1.0/255. )\n",
        "validation_datagen = ImageDataGenerator( rescale=1.0/255. )"
      ],
      "metadata": {
        "id": "LwSYr-aqMRwx"
      },
      "execution_count": null,
      "outputs": []
    },
    {
      "cell_type": "markdown",
      "source": [
        "IMPORTING THE DATA"
      ],
      "metadata": {
        "id": "FZAxxGPWMnIE"
      }
    },
    {
      "cell_type": "code",
      "source": [
        "train_path = '/content/drive/MyDrive/horse-or-human/train'\n",
        "validation_path = '/content/drive/MyDrive/horse-or-human/validation'"
      ],
      "metadata": {
        "id": "OrLL4ZpDMU1A"
      },
      "execution_count": null,
      "outputs": []
    },
    {
      "cell_type": "markdown",
      "source": [
        "DIVIDING THE DATA IN TRAIN AND VALIDATION"
      ],
      "metadata": {
        "id": "IoACmZntMqcs"
      }
    },
    {
      "cell_type": "code",
      "source": [
        "train_data_generator = train_data_gen.flow_from_directory(\n",
        "    train_path,\n",
        "    target_size= (300,300),\n",
        "    batch_size=128,\n",
        "    class_mode = 'binary'\n",
        ")"
      ],
      "metadata": {
        "colab": {
          "base_uri": "https://localhost:8080/"
        },
        "id": "JrjL_tuDMXJA",
        "outputId": "db8f3bd1-aa31-4f70-8928-78a6d8c25b4f"
      },
      "execution_count": null,
      "outputs": [
        {
          "output_type": "stream",
          "name": "stdout",
          "text": [
            "Found 1037 images belonging to 2 classes.\n"
          ]
        }
      ]
    },
    {
      "cell_type": "code",
      "source": [
        "validation_data_generator = validation_datagen.flow_from_directory(\n",
        "    validation_path,\n",
        "    target_size = (300,300),\n",
        "    batch_size = 128,\n",
        "    class_mode = 'binary'\n",
        ")"
      ],
      "metadata": {
        "colab": {
          "base_uri": "https://localhost:8080/"
        },
        "id": "-xxyFZA5MaE4",
        "outputId": "643e9195-bef9-42e4-fb80-60f5cd4bfea3"
      },
      "execution_count": null,
      "outputs": [
        {
          "output_type": "stream",
          "name": "stdout",
          "text": [
            "Found 256 images belonging to 2 classes.\n"
          ]
        }
      ]
    },
    {
      "cell_type": "markdown",
      "source": [
        "MAKING CALLBACK FUNCTION"
      ],
      "metadata": {
        "id": "PUkAWyh7Mz0U"
      }
    },
    {
      "cell_type": "code",
      "source": [
        "class mycallback(tf.keras.callbacks.Callback):\n",
        "    def on_epoch_end(self,epoch,logs={}):\n",
        "        if(logs.get('accuracy')>0.98):\n",
        "            print(\"Please stop training Model ready\")\n",
        "            self.model.stop_training=True"
      ],
      "metadata": {
        "id": "OC5T-tfgOlfI"
      },
      "execution_count": null,
      "outputs": []
    },
    {
      "cell_type": "code",
      "source": [
        "callback = mycallback()"
      ],
      "metadata": {
        "id": "cYIvo_lmO8pg"
      },
      "execution_count": null,
      "outputs": []
    },
    {
      "cell_type": "markdown",
      "source": [
        "IMPORTING THE DATA INTO MODEL FOR TRAINING AND PREDICTION"
      ],
      "metadata": {
        "id": "lsevJo5MNopF"
      }
    },
    {
      "cell_type": "code",
      "source": [
        "history = model.fit_generator(\n",
        "    train_data_generator,\n",
        "\n",
        "    epochs = 30,\n",
        "    validation_data = validation_data_generator,\n",
        "    callbacks=[callback]\n",
        "    \n",
        ")"
      ],
      "metadata": {
        "colab": {
          "base_uri": "https://localhost:8080/"
        },
        "id": "ogBVqGAgMdzQ",
        "outputId": "04c35df3-b05c-446d-ac29-a87b4b6ad633"
      },
      "execution_count": null,
      "outputs": [
        {
          "output_type": "stream",
          "name": "stderr",
          "text": [
            "<ipython-input-56-f8e78c4d3693>:1: UserWarning: `Model.fit_generator` is deprecated and will be removed in a future version. Please use `Model.fit`, which supports generators.\n",
            "  history = model.fit_generator(\n"
          ]
        },
        {
          "output_type": "stream",
          "name": "stdout",
          "text": [
            "Epoch 1/30\n",
            "9/9 [==============================] - 113s 12s/step - loss: 0.6686 - accuracy: 0.6075 - val_loss: 0.5990 - val_accuracy: 0.6836\n",
            "Epoch 2/30\n",
            "9/9 [==============================] - 114s 12s/step - loss: 0.4728 - accuracy: 0.8177 - val_loss: 1.0367 - val_accuracy: 0.6875\n",
            "Epoch 3/30\n",
            "9/9 [==============================] - 108s 12s/step - loss: 0.2625 - accuracy: 0.8910 - val_loss: 1.2416 - val_accuracy: 0.8203\n",
            "Epoch 4/30\n",
            "9/9 [==============================] - 108s 12s/step - loss: 0.1656 - accuracy: 0.9392 - val_loss: 1.4714 - val_accuracy: 0.8203\n",
            "Epoch 5/30\n",
            "9/9 [==============================] - 108s 12s/step - loss: 0.1421 - accuracy: 0.9412 - val_loss: 1.6233 - val_accuracy: 0.8164\n",
            "Epoch 6/30\n",
            "9/9 [==============================] - 113s 12s/step - loss: 0.1029 - accuracy: 0.9605 - val_loss: 1.5195 - val_accuracy: 0.8164\n",
            "Epoch 7/30\n",
            "9/9 [==============================] - 112s 12s/step - loss: 0.0726 - accuracy: 0.9720 - val_loss: 1.5126 - val_accuracy: 0.8281\n",
            "Epoch 8/30\n",
            "9/9 [==============================] - 109s 12s/step - loss: 0.0796 - accuracy: 0.9672 - val_loss: 1.1857 - val_accuracy: 0.8398\n",
            "Epoch 9/30\n",
            "9/9 [==============================] - ETA: 0s - loss: 0.0449 - accuracy: 0.9836 Please stop training Model ready\n",
            "9/9 [==============================] - 110s 12s/step - loss: 0.0449 - accuracy: 0.9836 - val_loss: 1.5729 - val_accuracy: 0.8320\n"
          ]
        }
      ]
    },
    {
      "cell_type": "markdown",
      "source": [
        "UPLOADING NEW IMAGE AND PREDICTING WETHER IMAGE IS HUMAN OR HORSE"
      ],
      "metadata": {
        "id": "Ta5YnkeSNyV0"
      }
    },
    {
      "cell_type": "code",
      "source": [
        "from google.colab import files\n",
        "from tensorflow.keras.preprocessing import image\n",
        "\n",
        "uploaded = files.upload()\n",
        "\n",
        "for fn in uploaded.keys():\n",
        "  path = '/content/'+ fn\n",
        "  img=image.load_img(path, target_size=(300,300))\n",
        "  x = image.img_to_array(img)\n",
        "  x = np.expand_dims(x,axis=0)\n",
        "\n",
        "  images = np.vstack([x])\n",
        "  classes = model.predict(images,batch_size=10)\n",
        "  print(classes[0])\n",
        "  if classes[0]>0.5:\n",
        "    print(fn + '\\nITS A HUMAN')\n",
        "  else:\n",
        "    print(fn+ '\\nITS A HORSE') "
      ],
      "metadata": {
        "colab": {
          "base_uri": "https://localhost:8080/",
          "height": 142
        },
        "id": "cIh805WHMkG5",
        "outputId": "e77f1750-e6f7-492c-cd02-bb50ba589187"
      },
      "execution_count": null,
      "outputs": [
        {
          "output_type": "display_data",
          "data": {
            "text/plain": [
              "<IPython.core.display.HTML object>"
            ],
            "text/html": [
              "\n",
              "     <input type=\"file\" id=\"files-963ff5d0-7989-4787-8a80-749824f212fe\" name=\"files[]\" multiple disabled\n",
              "        style=\"border:none\" />\n",
              "     <output id=\"result-963ff5d0-7989-4787-8a80-749824f212fe\">\n",
              "      Upload widget is only available when the cell has been executed in the\n",
              "      current browser session. Please rerun this cell to enable.\n",
              "      </output>\n",
              "      <script>// Copyright 2017 Google LLC\n",
              "//\n",
              "// Licensed under the Apache License, Version 2.0 (the \"License\");\n",
              "// you may not use this file except in compliance with the License.\n",
              "// You may obtain a copy of the License at\n",
              "//\n",
              "//      http://www.apache.org/licenses/LICENSE-2.0\n",
              "//\n",
              "// Unless required by applicable law or agreed to in writing, software\n",
              "// distributed under the License is distributed on an \"AS IS\" BASIS,\n",
              "// WITHOUT WARRANTIES OR CONDITIONS OF ANY KIND, either express or implied.\n",
              "// See the License for the specific language governing permissions and\n",
              "// limitations under the License.\n",
              "\n",
              "/**\n",
              " * @fileoverview Helpers for google.colab Python module.\n",
              " */\n",
              "(function(scope) {\n",
              "function span(text, styleAttributes = {}) {\n",
              "  const element = document.createElement('span');\n",
              "  element.textContent = text;\n",
              "  for (const key of Object.keys(styleAttributes)) {\n",
              "    element.style[key] = styleAttributes[key];\n",
              "  }\n",
              "  return element;\n",
              "}\n",
              "\n",
              "// Max number of bytes which will be uploaded at a time.\n",
              "const MAX_PAYLOAD_SIZE = 100 * 1024;\n",
              "\n",
              "function _uploadFiles(inputId, outputId) {\n",
              "  const steps = uploadFilesStep(inputId, outputId);\n",
              "  const outputElement = document.getElementById(outputId);\n",
              "  // Cache steps on the outputElement to make it available for the next call\n",
              "  // to uploadFilesContinue from Python.\n",
              "  outputElement.steps = steps;\n",
              "\n",
              "  return _uploadFilesContinue(outputId);\n",
              "}\n",
              "\n",
              "// This is roughly an async generator (not supported in the browser yet),\n",
              "// where there are multiple asynchronous steps and the Python side is going\n",
              "// to poll for completion of each step.\n",
              "// This uses a Promise to block the python side on completion of each step,\n",
              "// then passes the result of the previous step as the input to the next step.\n",
              "function _uploadFilesContinue(outputId) {\n",
              "  const outputElement = document.getElementById(outputId);\n",
              "  const steps = outputElement.steps;\n",
              "\n",
              "  const next = steps.next(outputElement.lastPromiseValue);\n",
              "  return Promise.resolve(next.value.promise).then((value) => {\n",
              "    // Cache the last promise value to make it available to the next\n",
              "    // step of the generator.\n",
              "    outputElement.lastPromiseValue = value;\n",
              "    return next.value.response;\n",
              "  });\n",
              "}\n",
              "\n",
              "/**\n",
              " * Generator function which is called between each async step of the upload\n",
              " * process.\n",
              " * @param {string} inputId Element ID of the input file picker element.\n",
              " * @param {string} outputId Element ID of the output display.\n",
              " * @return {!Iterable<!Object>} Iterable of next steps.\n",
              " */\n",
              "function* uploadFilesStep(inputId, outputId) {\n",
              "  const inputElement = document.getElementById(inputId);\n",
              "  inputElement.disabled = false;\n",
              "\n",
              "  const outputElement = document.getElementById(outputId);\n",
              "  outputElement.innerHTML = '';\n",
              "\n",
              "  const pickedPromise = new Promise((resolve) => {\n",
              "    inputElement.addEventListener('change', (e) => {\n",
              "      resolve(e.target.files);\n",
              "    });\n",
              "  });\n",
              "\n",
              "  const cancel = document.createElement('button');\n",
              "  inputElement.parentElement.appendChild(cancel);\n",
              "  cancel.textContent = 'Cancel upload';\n",
              "  const cancelPromise = new Promise((resolve) => {\n",
              "    cancel.onclick = () => {\n",
              "      resolve(null);\n",
              "    };\n",
              "  });\n",
              "\n",
              "  // Wait for the user to pick the files.\n",
              "  const files = yield {\n",
              "    promise: Promise.race([pickedPromise, cancelPromise]),\n",
              "    response: {\n",
              "      action: 'starting',\n",
              "    }\n",
              "  };\n",
              "\n",
              "  cancel.remove();\n",
              "\n",
              "  // Disable the input element since further picks are not allowed.\n",
              "  inputElement.disabled = true;\n",
              "\n",
              "  if (!files) {\n",
              "    return {\n",
              "      response: {\n",
              "        action: 'complete',\n",
              "      }\n",
              "    };\n",
              "  }\n",
              "\n",
              "  for (const file of files) {\n",
              "    const li = document.createElement('li');\n",
              "    li.append(span(file.name, {fontWeight: 'bold'}));\n",
              "    li.append(span(\n",
              "        `(${file.type || 'n/a'}) - ${file.size} bytes, ` +\n",
              "        `last modified: ${\n",
              "            file.lastModifiedDate ? file.lastModifiedDate.toLocaleDateString() :\n",
              "                                    'n/a'} - `));\n",
              "    const percent = span('0% done');\n",
              "    li.appendChild(percent);\n",
              "\n",
              "    outputElement.appendChild(li);\n",
              "\n",
              "    const fileDataPromise = new Promise((resolve) => {\n",
              "      const reader = new FileReader();\n",
              "      reader.onload = (e) => {\n",
              "        resolve(e.target.result);\n",
              "      };\n",
              "      reader.readAsArrayBuffer(file);\n",
              "    });\n",
              "    // Wait for the data to be ready.\n",
              "    let fileData = yield {\n",
              "      promise: fileDataPromise,\n",
              "      response: {\n",
              "        action: 'continue',\n",
              "      }\n",
              "    };\n",
              "\n",
              "    // Use a chunked sending to avoid message size limits. See b/62115660.\n",
              "    let position = 0;\n",
              "    do {\n",
              "      const length = Math.min(fileData.byteLength - position, MAX_PAYLOAD_SIZE);\n",
              "      const chunk = new Uint8Array(fileData, position, length);\n",
              "      position += length;\n",
              "\n",
              "      const base64 = btoa(String.fromCharCode.apply(null, chunk));\n",
              "      yield {\n",
              "        response: {\n",
              "          action: 'append',\n",
              "          file: file.name,\n",
              "          data: base64,\n",
              "        },\n",
              "      };\n",
              "\n",
              "      let percentDone = fileData.byteLength === 0 ?\n",
              "          100 :\n",
              "          Math.round((position / fileData.byteLength) * 100);\n",
              "      percent.textContent = `${percentDone}% done`;\n",
              "\n",
              "    } while (position < fileData.byteLength);\n",
              "  }\n",
              "\n",
              "  // All done.\n",
              "  yield {\n",
              "    response: {\n",
              "      action: 'complete',\n",
              "    }\n",
              "  };\n",
              "}\n",
              "\n",
              "scope.google = scope.google || {};\n",
              "scope.google.colab = scope.google.colab || {};\n",
              "scope.google.colab._files = {\n",
              "  _uploadFiles,\n",
              "  _uploadFilesContinue,\n",
              "};\n",
              "})(self);\n",
              "</script> "
            ]
          },
          "metadata": {}
        },
        {
          "output_type": "stream",
          "name": "stdout",
          "text": [
            "Saving download (1).jfif to download (1).jfif\n",
            "1/1 [==============================] - 0s 54ms/step\n",
            "[1.]\n",
            "download (1).jfif\n",
            "ITS A HUMAN\n"
          ]
        }
      ]
    },
    {
      "cell_type": "code",
      "source": [],
      "metadata": {
        "id": "BN9NVA6uUb22"
      },
      "execution_count": null,
      "outputs": []
    }
  ]
}